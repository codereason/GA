{
  "nbformat": 4,
  "nbformat_minor": 0,
  "metadata": {
    "colab": {
      "name": "333f1026a9f2d4bd3efa9ed054d8b8a8#file-genetic_algorithm-ipynb",
      "version": "0.3.2",
      "provenance": [],
      "toc_visible": true
    },
    "language_info": {
      "codemirror_mode": {
        "name": "ipython",
        "version": 3
      },
      "file_extension": ".py",
      "mimetype": "text/x-python",
      "name": "python",
      "nbconvert_exporter": "python",
      "pygments_lexer": "ipython3",
      "version": "3.5.2"
    },
    "kernelspec": {
      "display_name": "Python [default]",
      "language": "python",
      "name": "python3"
    }
  },
  "cells": [
    {
      "metadata": {
        "id": "ifbrvFx2NlUo",
        "colab_type": "text"
      },
      "cell_type": "markdown",
      "source": [
        "### 遗传算法\n",
        "\n",
        "**遗传算法**是一种优化方法，其源于达尔文的自然选择学说。自然选择学说认为，在特定的环境下，各种生物的那些适应所在环境特点的功能有更高可能在代际遗传中得到保留（举例而言，在高寒地区的动物通常长有非常厚的毛）。自然选择在以下条件下就会产生：\n",
        "\n",
        "* 各种生物要有办法将自己的遗传特征传给后代\n",
        "* 环境中的遗传特征种类多种多样\n",
        "* 只有部分生物体才可以将自己的遗传特征传给后代，也就是“适者生存”\n",
        "\n",
        "这种“仿生学”的方法如何在算法中应用呢？"
      ]
    },
    {
      "metadata": {
        "id": "v7tu_3SiNlUq",
        "colab_type": "text"
      },
      "cell_type": "markdown",
      "source": [
        "#### 场景\n",
        "\n",
        "假设我们随机抽取100个用户来公司参观，并与自己喜欢的老师和产品经理互相交流。在他们来公司前，我们送了一组问卷，问卷内容包括：\n",
        "\n",
        "* 对数学视频的喜好程度\n",
        "* 对物理视频的喜好程度\n",
        "* 对英语视频的喜好程度\n",
        "\n",
        "在问卷中，他们需要对每个问题打一个分数，10分为最喜欢，0分为最不喜欢。\n",
        "\n",
        "现在，这100位用户会分坐10行10列，由于活动需要，我们需要保证同一个人的前、后、左、右邻座不能和这个人有很大的兴趣差异。\n",
        "\n",
        "他们的问卷数据在`questionnaire.csv`中，现在，你需要**用pandas 读取，并输出数据的前5行**"
      ]
    },
    {
      "metadata": {
        "id": "-2Lv2_-RNlUr",
        "colab_type": "code",
        "colab": {
          "base_uri": "https://localhost:8080/",
          "height": 235
        },
        "outputId": "b9db41f3-93f6-4efb-a331-37e988450c66"
      },
      "cell_type": "code",
      "source": [
        "import pandas as pd\n",
        "\n",
        "# 读取 questionnaire.csv, 存到 df 中，并将第一列（uid）设置为索引\n",
        "### CODE HERE\n",
        "\n",
        "df=pd.read_csv(\"questionnaire.csv\",index_col=\"uid\")\n",
        "df.head()"
      ],
      "execution_count": 2,
      "outputs": [
        {
          "output_type": "execute_result",
          "data": {
            "text/html": [
              "<div>\n",
              "<style scoped>\n",
              "    .dataframe tbody tr th:only-of-type {\n",
              "        vertical-align: middle;\n",
              "    }\n",
              "\n",
              "    .dataframe tbody tr th {\n",
              "        vertical-align: top;\n",
              "    }\n",
              "\n",
              "    .dataframe thead th {\n",
              "        text-align: right;\n",
              "    }\n",
              "</style>\n",
              "<table border=\"1\" class=\"dataframe\">\n",
              "  <thead>\n",
              "    <tr style=\"text-align: right;\">\n",
              "      <th></th>\n",
              "      <th>math</th>\n",
              "      <th>physics</th>\n",
              "      <th>english</th>\n",
              "    </tr>\n",
              "    <tr>\n",
              "      <th>uid</th>\n",
              "      <th></th>\n",
              "      <th></th>\n",
              "      <th></th>\n",
              "    </tr>\n",
              "  </thead>\n",
              "  <tbody>\n",
              "    <tr>\n",
              "      <th>1</th>\n",
              "      <td>0</td>\n",
              "      <td>4</td>\n",
              "      <td>7</td>\n",
              "    </tr>\n",
              "    <tr>\n",
              "      <th>2</th>\n",
              "      <td>5</td>\n",
              "      <td>2</td>\n",
              "      <td>0</td>\n",
              "    </tr>\n",
              "    <tr>\n",
              "      <th>3</th>\n",
              "      <td>5</td>\n",
              "      <td>1</td>\n",
              "      <td>3</td>\n",
              "    </tr>\n",
              "    <tr>\n",
              "      <th>4</th>\n",
              "      <td>9</td>\n",
              "      <td>1</td>\n",
              "      <td>8</td>\n",
              "    </tr>\n",
              "    <tr>\n",
              "      <th>5</th>\n",
              "      <td>9</td>\n",
              "      <td>1</td>\n",
              "      <td>8</td>\n",
              "    </tr>\n",
              "  </tbody>\n",
              "</table>\n",
              "</div>"
            ],
            "text/plain": [
              "     math  physics  english\n",
              "uid                        \n",
              "1       0        4        7\n",
              "2       5        2        0\n",
              "3       5        1        3\n",
              "4       9        1        8\n",
              "5       9        1        8"
            ]
          },
          "metadata": {
            "tags": []
          },
          "execution_count": 2
        }
      ]
    },
    {
      "metadata": {
        "id": "U1YDfg-iNqKM",
        "colab_type": "text"
      },
      "cell_type": "markdown",
      "source": [
        "# 新段落"
      ]
    },
    {
      "metadata": {
        "id": "Q992kR7HNlUv",
        "colab_type": "text"
      },
      "cell_type": "markdown",
      "source": [
        "有了数据，首先我们可以尝试将问题和数据形式化。在这个问题里，我们的输出显然是个10×10的矩阵，我们可以通过这个矩阵为这100个用户安排座位。为了让遗传算法听起来更有生物范儿，我们可以把矩阵叫做“染色体”，把矩阵中每个元素（座位和座位上的用户）叫做“基因”，这样我们就可以提出很多染色体，这些染色体有的符合问题的要求，有的不符合。\n",
        "\n",
        "所以，我们可以先随机生成10个染色体。**请将所有uid随机分配到一个名为 `user_mat` 的10×10的numpy矩阵中**"
      ]
    },
    {
      "metadata": {
        "id": "_qlYB2JBNlUw",
        "colab_type": "code",
        "colab": {}
      },
      "cell_type": "code",
      "source": [
        "import numpy as np\n",
        "\n",
        "### CODE HERE\n",
        "user_mat=np.random.randint(1,100,size =(10,10))"
      ],
      "execution_count": 0,
      "outputs": []
    },
    {
      "metadata": {
        "id": "-YeA1aoIOEsN",
        "colab_type": "code",
        "colab": {
          "base_uri": "https://localhost:8080/",
          "height": 197
        },
        "outputId": "2e1025a2-b3b4-416d-82ee-6a575a8234ed"
      },
      "cell_type": "code",
      "source": [
        "user_mat"
      ],
      "execution_count": 4,
      "outputs": [
        {
          "output_type": "execute_result",
          "data": {
            "text/plain": [
              "array([[60, 19, 57, 43, 74, 18, 24, 70, 69, 13],\n",
              "       [54, 37, 63, 33, 87, 66, 29,  7, 51, 82],\n",
              "       [87, 13, 82, 43, 65, 57, 33, 24, 81, 89],\n",
              "       [14, 68, 92, 69, 68, 38, 40, 66, 99, 23],\n",
              "       [31, 54, 83, 25, 82, 47, 49, 20, 18, 48],\n",
              "       [26, 90, 80, 77, 12,  5, 21, 96, 47, 76],\n",
              "       [59, 87, 32, 51, 21, 91, 67, 10, 35, 57],\n",
              "       [ 8,  5, 16, 54, 85,  9, 17, 47, 86, 88],\n",
              "       [88, 61, 40, 64,  6, 26, 13, 55,  5, 70],\n",
              "       [26, 39, 26, 85, 32, 83, 11,  7, 77,  9]])"
            ]
          },
          "metadata": {
            "tags": []
          },
          "execution_count": 4
        }
      ]
    },
    {
      "metadata": {
        "id": "KxcERX6mNlU0",
        "colab_type": "text"
      },
      "cell_type": "markdown",
      "source": [
        "接下来，**随机\"shuffle\" `user_mat` 十次，并将返回的“染色体”保存到 `initial_population`**"
      ]
    },
    {
      "metadata": {
        "id": "jo7RV-T8NlU1",
        "colab_type": "code",
        "colab": {}
      },
      "cell_type": "code",
      "source": [
        "initial_population = []\n",
        "\n",
        "for x in range(10):\n",
        "    user_mat = np.random.permutation(range(1, 101)).reshape((10,10))\n",
        "    initial_population.append(user_mat)"
      ],
      "execution_count": 0,
      "outputs": []
    },
    {
      "metadata": {
        "id": "BUKLV0U9NlU4",
        "colab_type": "code",
        "colab": {
          "base_uri": "https://localhost:8080/",
          "height": 1817
        },
        "outputId": "d65ecb3b-d7b3-44b1-d295-5b561192b7cd"
      },
      "cell_type": "code",
      "source": [
        "initial_population"
      ],
      "execution_count": 6,
      "outputs": [
        {
          "output_type": "execute_result",
          "data": {
            "text/plain": [
              "[array([[ 16,  99,  97,   3,  69,  17,  46,  72,  61,  66],\n",
              "        [ 96,  24,  12,  76,  78,  87,  95,  42,   1,  98],\n",
              "        [ 48,  22,  39,  25,  26,  35,  68,  62,  40,  71],\n",
              "        [ 91,  58,  53,  84,  45,  93,  52,  13,  27,  56],\n",
              "        [ 29,   7,  73,  36,  43,  65,  41,  64,  89,  80],\n",
              "        [ 14,  47,  82,  10,  30, 100,  81,   5,  90,   2],\n",
              "        [ 33,  86,  37,  18,  44,   9,  50,  92,  57,  79],\n",
              "        [ 11,  23,  38,  19,  51,  28,  60,  15,  83,  49],\n",
              "        [ 75,  31,   8,  74,  77,  21,  34,  20,   6,  32],\n",
              "        [ 70,  94,  85,  59,  54,  88,  67,  55,  63,   4]]),\n",
              " array([[ 31,  41,  49,  91,  30,  73,  99,  71,  52,  18],\n",
              "        [ 50,  69,  12,  77,  92,  17,  83,  86,  36,  60],\n",
              "        [  7,  11,  23,  44,  27,  93,  37,  59,  16,  75],\n",
              "        [ 54,  22,  43,  80,  45,  63,  20,   3,  96,  39],\n",
              "        [ 90,  29,  35,  26,  38,  48,  70,  94,  53,  13],\n",
              "        [ 14,  33,  78,  97, 100,   8,  58,  66,  56,  87],\n",
              "        [  2,   1,   4,  19,  21,  74,  24,  76,   6,  72],\n",
              "        [ 61,  84,  65,  55,   5,  15,  32,  40,  79,  68],\n",
              "        [ 51,  25,  95,  42,  10,  89,  67,  57,  28,   9],\n",
              "        [ 82,  85,  47,  62,  98,  34,  81,  64,  46,  88]]),\n",
              " array([[  6,  37,  56,  81,  18,  85,  12,  41,  43,  51],\n",
              "        [ 13,  87,  96,  97,  82,  94,  27,  24,  36,  55],\n",
              "        [  5,  71,  28,  26,  42,  63,  76,  95,  93,  66],\n",
              "        [ 29,  60,  19,  17,  57,  91,  74, 100,  33,  62],\n",
              "        [ 46,  73,  25,  70,  21,  45,  47,  30,  31,  38],\n",
              "        [ 23,  34,  75,   2,  59,  14,  86,  77,  92,  61],\n",
              "        [ 65,  16,  88,  54,  15,  68,  44,   3,  10,  50],\n",
              "        [ 49,  67,  40,  53,  80,  52,  22,   4,  20,  11],\n",
              "        [  1,  98,  78,  84,   8,  39,  72,  35,   7,  79],\n",
              "        [ 99,  83,  89,   9,  69,  58,  64,  32,  48,  90]]),\n",
              " array([[ 44,  54,  83,  34,  37,  97,  93,  48,  96,  13],\n",
              "        [ 31,  53,  25,  71,  92,   2,  87,  61,   9,   8],\n",
              "        [ 90,   4,  66,  12,  85,  50,  35,  95,  56,   6],\n",
              "        [ 26,  79,   5,  21,  58,  94,   3,  18,  30,  63],\n",
              "        [ 45,  88,  78,  27,  74,  40,  39,  28,  60,  89],\n",
              "        [ 42,  69,  76,  84,  70,  36,  49,  64,  20,  59],\n",
              "        [100,  47,  51,   1,  65,  11,  82,  68,  80,  23],\n",
              "        [ 52,  16,  22,   7,  46,  81,  77,  75,  33,  17],\n",
              "        [ 41,  91,  99,  72,  86,  98,  62,  10,  29,  38],\n",
              "        [ 73,  24,  19,  15,  32,  55,  67,  57,  43,  14]]),\n",
              " array([[ 30,  65,  78,  21,  63,  89,  29,  88,  94,  59],\n",
              "        [ 82,  47,   7,  61,   5,  41,  49,  46,  37,  40],\n",
              "        [ 68,  96,  98,  75,  66,   6,  10,  67,  38,  24],\n",
              "        [ 91,  48,  97,  51,  16,  14,  17,  93,  64,  54],\n",
              "        [  2,  62,  74,  44,  99,  57,  70,  25,  71,   8],\n",
              "        [ 45,   9,   3,  32,  58,  90,  81,  35,  53,  36],\n",
              "        [  4,  73,  60,  55,  85,  50,  77,  19,  15,  12],\n",
              "        [ 20,  26,  43,  42,  23,  13,  72, 100,  79,  22],\n",
              "        [ 84,  11,  31,   1,  76,  52,  27,  83,  87,  34],\n",
              "        [ 39,  33,  92,  56,  80,  95,  69,  18,  28,  86]]),\n",
              " array([[ 63,   9,  38,  51,  21,  28,  68,   8,  64,  24],\n",
              "        [ 10,  79,  58,  56,  96,  88,  45,  90,  59,   2],\n",
              "        [ 32,  70,  53,  82,  69,   1,  57,  66,  54,  49],\n",
              "        [ 47,  71,  17,  67,  83,  15,  55,   6,  84,  93],\n",
              "        [ 26, 100,  77,   5,  60,  23,  27,  78,  94,   7],\n",
              "        [ 13,  30,  72,  97,  14,  75,  85,  50,  11,  73],\n",
              "        [ 46,  61,  91,  34,  42,   4,  80,  18,  39,  44],\n",
              "        [ 16,  87,  98,  62,  43,  25,  36,  33,  95,  29],\n",
              "        [ 40,  65,  41,  20,  86,  12,  48,  92,  22,  52],\n",
              "        [ 37,  76,  89,  74,  99,  81,  35,  31,   3,  19]]),\n",
              " array([[ 96,  39,  49,  22,   3,  38,   1,  76,  19,   8],\n",
              "        [ 13,  69,  34,  89,  27,  82,  54,  11,  87,  98],\n",
              "        [ 68,   9,  20,  48,  16,  21,  56,  61,  74,   2],\n",
              "        [ 24,  63,  62,  31,  14,  88,  78,  91,  94,  55],\n",
              "        [ 25,  60,  67,  64,  73,  92,  18,  47,  95,  32],\n",
              "        [ 84,  43,  79,  46,  17,  12,  85,  83,   5,  15],\n",
              "        [ 41,   4,  23, 100,  75,  86,  80,  26,  99,  97],\n",
              "        [ 51,  28,  35,  33,  36,  65,  42,  57,  90,  44],\n",
              "        [ 71,  53,  10,  30,  70,  52,  40,  93,  72,  29],\n",
              "        [ 45,  66,  77,  50,  58,  81,   6,   7,  59,  37]]),\n",
              " array([[ 18,  53,  71,  46,  29,  49,  82,  48,  80,  72],\n",
              "        [ 59,  64,  38,  60,   1,  34,   7,  36,   4,  56],\n",
              "        [ 89,  90,  28,  50,  14,  87,  70,  77,  12,  98],\n",
              "        [ 68,  51,  19,  33,  42,   8,  97,   6,  15,  10],\n",
              "        [100,  83,  45,  69,  40,  85,  47,  25,  22,  30],\n",
              "        [ 20,  86,  95,   3,  11,  94,  37,  74,  55,  62],\n",
              "        [ 35,   5,  52,  65,  58,  17,  93,  23,  39,  84],\n",
              "        [  9,  67,  43,  41,  61,  88,  76,  96,  31,  26],\n",
              "        [ 21,  81,  63,  32,  16,  24,  66,  92,  79,   2],\n",
              "        [ 99,  54,  44,  13,  75,  73,  78,  91,  27,  57]]),\n",
              " array([[  5,  34,  50,  13,   2,   1,  95,  88,  99,  56],\n",
              "        [ 24,  45,  69,  20,  82,  19,  63,   3,  61,  57],\n",
              "        [ 74,  22,  98,  60,  79,  18,  94,  97,  80,  16],\n",
              "        [ 89,  65,  62,  21,  53,  35,  46,  48,  92,   6],\n",
              "        [ 26,  43,  81,  52,  83,  59, 100,  55,  31,  29],\n",
              "        [ 30,  41,  11,  12,  78,  44,  96,  86,  32,  72],\n",
              "        [ 64,  91,  33,  40,  17,  77,  84,  58,  70,  71],\n",
              "        [  8,  49,  10,  15,   7,  23,  93,  37,  25,  73],\n",
              "        [ 54,  51,  76,  90,  87,  38,  68,  75,  14,  28],\n",
              "        [ 47,  27,  39,  42,  85,  36,   9,  66,   4,  67]]),\n",
              " array([[ 27,  61,  73,  20,  35,  44,  78,   1,  57,  36],\n",
              "        [ 23,   4,  68,  63,  52,  82,  98,  81,  87,  51],\n",
              "        [ 13,  58,  43,  72,  41,  59,   6,  66,  79,  77],\n",
              "        [ 28,  86,  32,  83,  42,  95,  14,  64,  96,  12],\n",
              "        [ 22,  46,   9,  91,  30,  76,  29,  65,  48,  60],\n",
              "        [ 54,  31,  33,  38,  69,  53,  50,  18,  93,  16],\n",
              "        [  8,  49,  11,  62,  26,  37,  75, 100,  84,  24],\n",
              "        [ 90,  39,  34,  40,  85,  10,   5,   3,  94,  99],\n",
              "        [ 17,  19,  97,  88,  71,  25,  45,   7,  67,   2],\n",
              "        [ 92,  47,  80,  15,  21,  89,  70,  74,  55,  56]])]"
            ]
          },
          "metadata": {
            "tags": []
          },
          "execution_count": 6
        }
      ]
    },
    {
      "metadata": {
        "id": "2Yv6tBUWNlU6",
        "colab_type": "text"
      },
      "cell_type": "markdown",
      "source": [
        "#### 适者生存\n",
        "\n",
        "接下来是重头戏 —— 适者生存环节了。我们如何让这10条染色体“弱肉强食，适者生存”呢？\n",
        "\n",
        "刚刚说到，我们需要保证同一个人的前、后、左、右邻座不能和这个人有很大的兴趣差异。那么首先就要衡量这种“差异”。\n",
        "\n",
        "请**写一个函数，输入是用户A（`person`）和一组用户B的数据（`*others`），返回A同B中每个用户喜好的平均曼哈顿距离**。"
      ]
    },
    {
      "metadata": {
        "id": "MwFWEZGcNlU7",
        "colab_type": "code",
        "colab": {}
      },
      "cell_type": "code",
      "source": [
        "from scipy.spatial.distance import pdist\n",
        "\n",
        "def calculate_interest_distance(person, *others):\n",
        "    people = [df.ix[person, 0:3]]\n",
        "    for other in others:\n",
        "        if other:\n",
        "            people.append(df.ix[other, 0:3])\n",
        "\n",
        "    return np.average(pdist(people, \"cityblock\")) if len(people) > 1 else 0"
      ],
      "execution_count": 0,
      "outputs": []
    },
    {
      "metadata": {
        "id": "e-yfogGYNlU-",
        "colab_type": "text"
      },
      "cell_type": "markdown",
      "source": [
        "现在我们已经有了衡量“差距”的方法，我们就可以将其作为染色体“适应性”的度量。\n",
        "\n",
        "接下来自然是为每条染色体的每个基因计算其距离了。我们会遍历每条染色体，为所有基因计算它与它前、后、左、右四个neighbor的距离。由于并非所有基因都有前后左右四个邻居，本着防御性编程的精神，我们先写个函数处理对应邻居不存在的意外情况。"
      ]
    },
    {
      "metadata": {
        "id": "mH_enP7-NlVA",
        "colab_type": "code",
        "colab": {}
      },
      "cell_type": "code",
      "source": [
        "def get_element_safe(sequence, position):\n",
        "    try:\n",
        "        return sequence.item(position)\n",
        "    except IndexError:\n",
        "        return None"
      ],
      "execution_count": 0,
      "outputs": []
    },
    {
      "metadata": {
        "id": "kp0bX7dzNlVC",
        "colab_type": "text"
      },
      "cell_type": "markdown",
      "source": [
        "接下来就可以动手了！请**补全`calculate_chromosome_fitness`函数，该函数接收一个染色体，并为该染色体上的每个基因计算曼哈顿距离，最后以这些距离的平均值作为这条染色体的“适者程度”**"
      ]
    },
    {
      "metadata": {
        "id": "qNPw6J1VNlVD",
        "colab_type": "code",
        "colab": {}
      },
      "cell_type": "code",
      "source": [
        "def calculate_chromosome_fitness(chromosome):\n",
        "    fitnesses = []\n",
        "    for index, gene in np.ndenumerate(chromosome):\n",
        "        next_to = calculate_interest_distance(gene,\n",
        "                                             get_element_safe(chromosome, (index[0], index[1] - 1)),\n",
        "                                             get_element_safe(chromosome, (index[0], index[1] + 1)))\n",
        "        in_front = calculate_interest_distance(gene,\n",
        "                                              get_element_safe(chromosome, (index[0]-1, index[1])))\n",
        "        behind = calculate_interest_distance(gene,\n",
        "                                            get_element_safe(chromosome, (index[0]+1, index[1])))\n",
        "        fitnesses.append(sum([next_to, in_front, behind]) / 3)\n",
        "    return np.average(fitnesses)"
      ],
      "execution_count": 0,
      "outputs": []
    },
    {
      "metadata": {
        "id": "0uQz8PBNNlVN",
        "colab_type": "text"
      },
      "cell_type": "markdown",
      "source": [
        "好的，这样我们就可以比较刚刚产生的10条染色体了。现在可以遍历每条染色体，计算染色体适应性，最后将相关信息保存起来。"
      ]
    },
    {
      "metadata": {
        "id": "j0RRm3dYNlVO",
        "colab_type": "code",
        "colab": {
          "base_uri": "https://localhost:8080/",
          "height": 305
        },
        "outputId": "1203a2ea-ae2c-40ea-d934-5295210ff7fa"
      },
      "cell_type": "code",
      "source": [
        "generations = []\n",
        "\n",
        "for chromosome in initial_population:\n",
        "    generations.append({\n",
        "        \"generation\": 0,\n",
        "        \"fitness\": calculate_chromosome_fitness(chromosome),\n",
        "        \"chromosome\": chromosome,\n",
        "        \"active\": True\n",
        "    })"
      ],
      "execution_count": 10,
      "outputs": [
        {
          "output_type": "stream",
          "text": [
            "/usr/local/lib/python3.6/dist-packages/ipykernel_launcher.py:4: DeprecationWarning: \n",
            ".ix is deprecated. Please use\n",
            ".loc for label based indexing or\n",
            ".iloc for positional indexing\n",
            "\n",
            "See the documentation here:\n",
            "http://pandas.pydata.org/pandas-docs/stable/indexing.html#ix-indexer-is-deprecated\n",
            "  after removing the cwd from sys.path.\n",
            "/usr/local/lib/python3.6/dist-packages/ipykernel_launcher.py:7: DeprecationWarning: \n",
            ".ix is deprecated. Please use\n",
            ".loc for label based indexing or\n",
            ".iloc for positional indexing\n",
            "\n",
            "See the documentation here:\n",
            "http://pandas.pydata.org/pandas-docs/stable/indexing.html#ix-indexer-is-deprecated\n",
            "  import sys\n"
          ],
          "name": "stderr"
        }
      ]
    },
    {
      "metadata": {
        "id": "STJInPFXNlVV",
        "colab_type": "text"
      },
      "cell_type": "markdown",
      "source": [
        "现在来看看结果吧！请**以 `fitness` 为 key，为generations排序**"
      ]
    },
    {
      "metadata": {
        "id": "euDtiCIbNlVV",
        "colab_type": "code",
        "colab": {
          "base_uri": "https://localhost:8080/",
          "height": 2357
        },
        "outputId": "b2ebce92-cf7d-48ac-af1b-ffc3ffd9fbda"
      },
      "cell_type": "code",
      "source": [
        "# CODE HERE\n",
        "generations = sorted(generations, key=lambda item: item['fitness'])  # reverse = True??????\n",
        "generations"
      ],
      "execution_count": 17,
      "outputs": [
        {
          "output_type": "execute_result",
          "data": {
            "text/plain": [
              "[{'active': True,\n",
              "  'chromosome': array([[  5,  34,  50,  13,   2,   1,  95,  88,  99,  56],\n",
              "         [ 24,  45,  69,  20,  82,  19,  63,   3,  61,  57],\n",
              "         [ 74,  22,  98,  60,  79,  18,  94,  97,  80,  16],\n",
              "         [ 89,  65,  62,  21,  53,  35,  46,  48,  92,   6],\n",
              "         [ 26,  43,  81,  52,  83,  59, 100,  55,  31,  29],\n",
              "         [ 30,  41,  11,  12,  78,  44,  96,  86,  32,  72],\n",
              "         [ 64,  91,  33,  40,  17,  77,  84,  58,  70,  71],\n",
              "         [  8,  49,  10,  15,   7,  23,  93,  37,  25,  73],\n",
              "         [ 54,  51,  76,  90,  87,  38,  68,  75,  14,  28],\n",
              "         [ 47,  27,  39,  42,  85,  36,   9,  66,   4,  67]]),\n",
              "  'fitness': 9.37111111111111,\n",
              "  'generation': 0},\n",
              " {'active': True,\n",
              "  'chromosome': array([[ 63,   9,  38,  51,  21,  28,  68,   8,  64,  24],\n",
              "         [ 10,  79,  58,  56,  96,  88,  45,  90,  59,   2],\n",
              "         [ 32,  70,  53,  82,  69,   1,  57,  66,  54,  49],\n",
              "         [ 47,  71,  17,  67,  83,  15,  55,   6,  84,  93],\n",
              "         [ 26, 100,  77,   5,  60,  23,  27,  78,  94,   7],\n",
              "         [ 13,  30,  72,  97,  14,  75,  85,  50,  11,  73],\n",
              "         [ 46,  61,  91,  34,  42,   4,  80,  18,  39,  44],\n",
              "         [ 16,  87,  98,  62,  43,  25,  36,  33,  95,  29],\n",
              "         [ 40,  65,  41,  20,  86,  12,  48,  92,  22,  52],\n",
              "         [ 37,  76,  89,  74,  99,  81,  35,  31,   3,  19]]),\n",
              "  'fitness': 9.434444444444443,\n",
              "  'generation': 0},\n",
              " {'active': True,\n",
              "  'chromosome': array([[ 30,  65,  78,  21,  63,  89,  29,  88,  94,  59],\n",
              "         [ 82,  47,   7,  61,   5,  41,  49,  46,  37,  40],\n",
              "         [ 68,  96,  98,  75,  66,   6,  10,  67,  38,  24],\n",
              "         [ 91,  48,  97,  51,  16,  14,  17,  93,  64,  54],\n",
              "         [  2,  62,  74,  44,  99,  57,  70,  25,  71,   8],\n",
              "         [ 45,   9,   3,  32,  58,  90,  81,  35,  53,  36],\n",
              "         [  4,  73,  60,  55,  85,  50,  77,  19,  15,  12],\n",
              "         [ 20,  26,  43,  42,  23,  13,  72, 100,  79,  22],\n",
              "         [ 84,  11,  31,   1,  76,  52,  27,  83,  87,  34],\n",
              "         [ 39,  33,  92,  56,  80,  95,  69,  18,  28,  86]]),\n",
              "  'fitness': 9.635555555555557,\n",
              "  'generation': 0},\n",
              " {'active': True,\n",
              "  'chromosome': array([[ 27,  61,  73,  20,  35,  44,  78,   1,  57,  36],\n",
              "         [ 23,   4,  68,  63,  52,  82,  98,  81,  87,  51],\n",
              "         [ 13,  58,  43,  72,  41,  59,   6,  66,  79,  77],\n",
              "         [ 28,  86,  32,  83,  42,  95,  14,  64,  96,  12],\n",
              "         [ 22,  46,   9,  91,  30,  76,  29,  65,  48,  60],\n",
              "         [ 54,  31,  33,  38,  69,  53,  50,  18,  93,  16],\n",
              "         [  8,  49,  11,  62,  26,  37,  75, 100,  84,  24],\n",
              "         [ 90,  39,  34,  40,  85,  10,   5,   3,  94,  99],\n",
              "         [ 17,  19,  97,  88,  71,  25,  45,   7,  67,   2],\n",
              "         [ 92,  47,  80,  15,  21,  89,  70,  74,  55,  56]]),\n",
              "  'fitness': 9.736666666666666,\n",
              "  'generation': 0},\n",
              " {'active': True,\n",
              "  'chromosome': array([[ 16,  99,  97,   3,  69,  17,  46,  72,  61,  66],\n",
              "         [ 96,  24,  12,  76,  78,  87,  95,  42,   1,  98],\n",
              "         [ 48,  22,  39,  25,  26,  35,  68,  62,  40,  71],\n",
              "         [ 91,  58,  53,  84,  45,  93,  52,  13,  27,  56],\n",
              "         [ 29,   7,  73,  36,  43,  65,  41,  64,  89,  80],\n",
              "         [ 14,  47,  82,  10,  30, 100,  81,   5,  90,   2],\n",
              "         [ 33,  86,  37,  18,  44,   9,  50,  92,  57,  79],\n",
              "         [ 11,  23,  38,  19,  51,  28,  60,  15,  83,  49],\n",
              "         [ 75,  31,   8,  74,  77,  21,  34,  20,   6,  32],\n",
              "         [ 70,  94,  85,  59,  54,  88,  67,  55,  63,   4]]),\n",
              "  'fitness': 9.817777777777778,\n",
              "  'generation': 0},\n",
              " {'active': True,\n",
              "  'chromosome': array([[ 44,  54,  83,  34,  37,  97,  93,  48,  96,  13],\n",
              "         [ 31,  53,  25,  71,  92,   2,  87,  61,   9,   8],\n",
              "         [ 90,   4,  66,  12,  85,  50,  35,  95,  56,   6],\n",
              "         [ 26,  79,   5,  21,  58,  94,   3,  18,  30,  63],\n",
              "         [ 45,  88,  78,  27,  74,  40,  39,  28,  60,  89],\n",
              "         [ 42,  69,  76,  84,  70,  36,  49,  64,  20,  59],\n",
              "         [100,  47,  51,   1,  65,  11,  82,  68,  80,  23],\n",
              "         [ 52,  16,  22,   7,  46,  81,  77,  75,  33,  17],\n",
              "         [ 41,  91,  99,  72,  86,  98,  62,  10,  29,  38],\n",
              "         [ 73,  24,  19,  15,  32,  55,  67,  57,  43,  14]]),\n",
              "  'fitness': 9.876666666666665,\n",
              "  'generation': 0},\n",
              " {'active': True,\n",
              "  'chromosome': array([[ 18,  53,  71,  46,  29,  49,  82,  48,  80,  72],\n",
              "         [ 59,  64,  38,  60,   1,  34,   7,  36,   4,  56],\n",
              "         [ 89,  90,  28,  50,  14,  87,  70,  77,  12,  98],\n",
              "         [ 68,  51,  19,  33,  42,   8,  97,   6,  15,  10],\n",
              "         [100,  83,  45,  69,  40,  85,  47,  25,  22,  30],\n",
              "         [ 20,  86,  95,   3,  11,  94,  37,  74,  55,  62],\n",
              "         [ 35,   5,  52,  65,  58,  17,  93,  23,  39,  84],\n",
              "         [  9,  67,  43,  41,  61,  88,  76,  96,  31,  26],\n",
              "         [ 21,  81,  63,  32,  16,  24,  66,  92,  79,   2],\n",
              "         [ 99,  54,  44,  13,  75,  73,  78,  91,  27,  57]]),\n",
              "  'fitness': 9.89111111111111,\n",
              "  'generation': 0},\n",
              " {'active': True,\n",
              "  'chromosome': array([[ 96,  39,  49,  22,   3,  38,   1,  76,  19,   8],\n",
              "         [ 13,  69,  34,  89,  27,  82,  54,  11,  87,  98],\n",
              "         [ 68,   9,  20,  48,  16,  21,  56,  61,  74,   2],\n",
              "         [ 24,  63,  62,  31,  14,  88,  78,  91,  94,  55],\n",
              "         [ 25,  60,  67,  64,  73,  92,  18,  47,  95,  32],\n",
              "         [ 84,  43,  79,  46,  17,  12,  85,  83,   5,  15],\n",
              "         [ 41,   4,  23, 100,  75,  86,  80,  26,  99,  97],\n",
              "         [ 51,  28,  35,  33,  36,  65,  42,  57,  90,  44],\n",
              "         [ 71,  53,  10,  30,  70,  52,  40,  93,  72,  29],\n",
              "         [ 45,  66,  77,  50,  58,  81,   6,   7,  59,  37]]),\n",
              "  'fitness': 9.967777777777778,\n",
              "  'generation': 0},\n",
              " {'active': True,\n",
              "  'chromosome': array([[  6,  37,  56,  81,  18,  85,  12,  41,  43,  51],\n",
              "         [ 13,  87,  96,  97,  82,  94,  27,  24,  36,  55],\n",
              "         [  5,  71,  28,  26,  42,  63,  76,  95,  93,  66],\n",
              "         [ 29,  60,  19,  17,  57,  91,  74, 100,  33,  62],\n",
              "         [ 46,  73,  25,  70,  21,  45,  47,  30,  31,  38],\n",
              "         [ 23,  34,  75,   2,  59,  14,  86,  77,  92,  61],\n",
              "         [ 65,  16,  88,  54,  15,  68,  44,   3,  10,  50],\n",
              "         [ 49,  67,  40,  53,  80,  52,  22,   4,  20,  11],\n",
              "         [  1,  98,  78,  84,   8,  39,  72,  35,   7,  79],\n",
              "         [ 99,  83,  89,   9,  69,  58,  64,  32,  48,  90]]),\n",
              "  'fitness': 9.977777777777778,\n",
              "  'generation': 0},\n",
              " {'active': True,\n",
              "  'chromosome': array([[ 31,  41,  49,  91,  30,  73,  99,  71,  52,  18],\n",
              "         [ 50,  69,  12,  77,  92,  17,  83,  86,  36,  60],\n",
              "         [  7,  11,  23,  44,  27,  93,  37,  59,  16,  75],\n",
              "         [ 54,  22,  43,  80,  45,  63,  20,   3,  96,  39],\n",
              "         [ 90,  29,  35,  26,  38,  48,  70,  94,  53,  13],\n",
              "         [ 14,  33,  78,  97, 100,   8,  58,  66,  56,  87],\n",
              "         [  2,   1,   4,  19,  21,  74,  24,  76,   6,  72],\n",
              "         [ 61,  84,  65,  55,   5,  15,  32,  40,  79,  68],\n",
              "         [ 51,  25,  95,  42,  10,  89,  67,  57,  28,   9],\n",
              "         [ 82,  85,  47,  62,  98,  34,  81,  64,  46,  88]]),\n",
              "  'fitness': 9.997777777777777,\n",
              "  'generation': 0}]"
            ]
          },
          "metadata": {
            "tags": []
          },
          "execution_count": 17
        }
      ]
    },
    {
      "metadata": {
        "id": "lj8uXS3FNlVY",
        "colab_type": "text"
      },
      "cell_type": "markdown",
      "source": [
        "#### 繁衍生息\n",
        "\n",
        "接下来就要真正的“适者生存”了。在进化论中，只有优秀的基因才有资格繁衍出下一代。我们要让两个优秀染色体结合，“生出“一个孩子来。\n",
        "\n",
        "具体的”繁衍规则“可以多种多样，在这里我们规定如下：\n",
        "* 对于id在1-50的用户，其基因来自于母亲\n",
        "* 对于id在51-100的用户，其基因来自于父亲\n",
        "* 如果基因有冲突（两个用户被指向同一个位置），就再随机挑选一个位置\n",
        "\n",
        "现在请**补全”遗传规则“**"
      ]
    },
    {
      "metadata": {
        "id": "HfyBfpYXNlVZ",
        "colab_type": "code",
        "colab": {}
      },
      "cell_type": "code",
      "source": [
        "import random\n",
        "\n",
        "def recombine(mother, father):\n",
        "    child = np.ones((10,10)) * -1\n",
        "    # 遍历每个用户\n",
        "    for index, uid in enumerate(df.index):\n",
        "        if uid <= 50:\n",
        "            # 如果uid <=50，则position为mother中该uid的位置\n",
        "            position = np.where(mother == uid)\n",
        "        else:\n",
        "            # 如果uid > 50，则position为father中该uid的位置\n",
        "            position = np.where(father == uid)\n",
        "        \n",
        "        if child[position] != -1:\n",
        "            # 处理冲突\n",
        "            filtered = np.where(np.equal(child, -1))\n",
        "            position = random.choice(list(zip(filtered[0], filtered[1])))\n",
        "\n",
        "        child[position] = uid\n",
        "\n",
        "    return child"
      ],
      "execution_count": 0,
      "outputs": []
    },
    {
      "metadata": {
        "id": "DKRp4QExNlVc",
        "colab_type": "text"
      },
      "cell_type": "markdown",
      "source": [
        "但是这种遗传规则可能会导致”近亲遗传“，进而不利于物种的进化，还好我们可以设计一套基因变异的方案，也就是随机调换一些基因（就是用户座位）的位置，以保证生物多样性。"
      ]
    },
    {
      "metadata": {
        "id": "5ypop2zbNlVd",
        "colab_type": "code",
        "colab": {}
      },
      "cell_type": "code",
      "source": [
        "import random\n",
        "\n",
        "def mutate_chromosome(chromosome):\n",
        "    first = (random.randrange(0, 10, 1), random.randrange(0, 10, 1))\n",
        "    second = (random.randrange(0, 10, 1), random.randrange(0, 10, 1))\n",
        "\n",
        "    chromosome[first[0], first[1]], chromosome[second[0], second[1]] = chromosome[second[0], second[1]], chromosome[first[0], first[1]]\n",
        "    return chromosome"
      ],
      "execution_count": 0,
      "outputs": []
    },
    {
      "metadata": {
        "id": "QELjigG8NlVi",
        "colab_type": "text"
      },
      "cell_type": "markdown",
      "source": [
        "#### 可视化\n",
        "\n",
        "接下来我们来将每条染色体的适应性都可视化出来，为了更生物一点，我们用类似于基因图谱的形式绘制每条染色体的基因情况"
      ]
    },
    {
      "metadata": {
        "id": "tMw-vpaWNlVk",
        "colab_type": "code",
        "colab": {}
      },
      "cell_type": "code",
      "source": [
        "import matplotlib.pyplot as plt\n",
        "%matplotlib inline\n",
        "\n",
        "def draw_population(population, generation):\n",
        "    get_ids = np.vectorize(get_id)\n",
        "    figure, axes = plt.subplots(1, 10, figsize=(20, 3))\n",
        "\n",
        "    for index, chromosome in enumerate(population):\n",
        "        ids = chromosome\n",
        "        axes[index].imshow(ids, interpolation=\"nearest\", cmap=plt.cm.plasma)\n",
        "        subplot_title = \"Chromosome \" + str(index)\n",
        "        axes[index].set_title(subplot_title)\n",
        "\n",
        "    plot_title = \"Generation \" + str(generation)\n",
        "    figure.suptitle(plot_title)\n",
        "    plt.show()"
      ],
      "execution_count": 0,
      "outputs": []
    },
    {
      "metadata": {
        "id": "4CxlmeUENlVm",
        "colab_type": "code",
        "colab": {
          "base_uri": "https://localhost:8080/",
          "height": 299
        },
        "outputId": "2d3c5434-84d4-48b8-dae5-2285862bb3b9"
      },
      "cell_type": "code",
      "source": [
        "draw_population(initial_population, 0)"
      ],
      "execution_count": 21,
      "outputs": [
        {
          "output_type": "error",
          "ename": "NameError",
          "evalue": "ignored",
          "traceback": [
            "\u001b[0;31m---------------------------------------------------------------------------\u001b[0m",
            "\u001b[0;31mNameError\u001b[0m                                 Traceback (most recent call last)",
            "\u001b[0;32m<ipython-input-21-f5362abb7bb4>\u001b[0m in \u001b[0;36m<module>\u001b[0;34m()\u001b[0m\n\u001b[0;32m----> 1\u001b[0;31m \u001b[0mdraw_population\u001b[0m\u001b[0;34m(\u001b[0m\u001b[0minitial_population\u001b[0m\u001b[0;34m,\u001b[0m \u001b[0;36m0\u001b[0m\u001b[0;34m)\u001b[0m\u001b[0;34m\u001b[0m\u001b[0;34m\u001b[0m\u001b[0m\n\u001b[0m",
            "\u001b[0;32m<ipython-input-20-1bbad2545b8f>\u001b[0m in \u001b[0;36mdraw_population\u001b[0;34m(population, generation)\u001b[0m\n\u001b[1;32m      3\u001b[0m \u001b[0;34m\u001b[0m\u001b[0m\n\u001b[1;32m      4\u001b[0m \u001b[0;32mdef\u001b[0m \u001b[0mdraw_population\u001b[0m\u001b[0;34m(\u001b[0m\u001b[0mpopulation\u001b[0m\u001b[0;34m,\u001b[0m \u001b[0mgeneration\u001b[0m\u001b[0;34m)\u001b[0m\u001b[0;34m:\u001b[0m\u001b[0;34m\u001b[0m\u001b[0;34m\u001b[0m\u001b[0m\n\u001b[0;32m----> 5\u001b[0;31m     \u001b[0mget_ids\u001b[0m \u001b[0;34m=\u001b[0m \u001b[0mnp\u001b[0m\u001b[0;34m.\u001b[0m\u001b[0mvectorize\u001b[0m\u001b[0;34m(\u001b[0m\u001b[0mget_id\u001b[0m\u001b[0;34m)\u001b[0m\u001b[0;34m\u001b[0m\u001b[0;34m\u001b[0m\u001b[0m\n\u001b[0m\u001b[1;32m      6\u001b[0m     \u001b[0mfigure\u001b[0m\u001b[0;34m,\u001b[0m \u001b[0maxes\u001b[0m \u001b[0;34m=\u001b[0m \u001b[0mplt\u001b[0m\u001b[0;34m.\u001b[0m\u001b[0msubplots\u001b[0m\u001b[0;34m(\u001b[0m\u001b[0;36m1\u001b[0m\u001b[0;34m,\u001b[0m \u001b[0;36m10\u001b[0m\u001b[0;34m,\u001b[0m \u001b[0mfigsize\u001b[0m\u001b[0;34m=\u001b[0m\u001b[0;34m(\u001b[0m\u001b[0;36m20\u001b[0m\u001b[0;34m,\u001b[0m \u001b[0;36m3\u001b[0m\u001b[0;34m)\u001b[0m\u001b[0;34m)\u001b[0m\u001b[0;34m\u001b[0m\u001b[0;34m\u001b[0m\u001b[0m\n\u001b[1;32m      7\u001b[0m \u001b[0;34m\u001b[0m\u001b[0m\n",
            "\u001b[0;31mNameError\u001b[0m: name 'get_id' is not defined"
          ]
        }
      ]
    },
    {
      "metadata": {
        "id": "SGOreU9ENlVp",
        "colab_type": "text"
      },
      "cell_type": "markdown",
      "source": [
        "#### 又到了交配的季节\n",
        "\n",
        "现在就可以交配了。我们可以设定如下终止条件，如果终止条件没有被触发，就可以一直交配下去：\n",
        "* 代数达到上限\n",
        "* 后代的适应性超过阈值\n",
        "* 后代适应性退化\n",
        "\n",
        "这里我们迭代最多50次，在50代交配中，只要有染色体达到或超过优质标准（距离小于5）就停止。\n",
        "\n",
        "现在来实现交配逻辑吧！\n"
      ]
    },
    {
      "metadata": {
        "id": "3IkPw8dPNlVp",
        "colab_type": "code",
        "colab": {}
      },
      "cell_type": "code",
      "source": [
        "import copy\n",
        "\n",
        "most_fit = []\n",
        "\n",
        "# 当前的适应度\n",
        "max_fitness = None\n",
        "\n",
        "# 适应度最高的染色体\n",
        "fittest_chromosome = None"
      ],
      "execution_count": 0,
      "outputs": []
    },
    {
      "metadata": {
        "id": "FoYBc3-4NlVr",
        "colab_type": "code",
        "colab": {}
      },
      "cell_type": "code",
      "source": [
        "### 从generations取出某一代的所有染色体，并排序\n",
        "def get_chromosomes_in_generation(generations, generation_num):\n",
        "    # Get only the chromosomes in this generation\n",
        "    generation = list(filter(lambda k: k['generation'] == generation_num, \n",
        "                             generations))\n",
        "    return sorted(generation, key=lambda k: k['fitness'])\n",
        "\n",
        "\n",
        "### 更新 most_fit / max_fitness / fittest_chromosome \n",
        "def sort_chromosomes(generation, most_fit):\n",
        "    max_fitness = generation[0]['fitness']\n",
        "    most_fit.append(max_fitness)\n",
        "    fittest_chromosome = generation[0]['chromosome']\n",
        "    return most_fit, fittest_chromosome"
      ],
      "execution_count": 0,
      "outputs": []
    },
    {
      "metadata": {
        "id": "gVIUw4okNlVu",
        "colab_type": "text"
      },
      "cell_type": "markdown",
      "source": [
        "在这个交配游戏中，每一代我们都会让适应度最好的四个染色体交配，生下两个后代，然后杀掉适应度最差的两个染色体以取而代之。为了防止数据污染，对每一代我们都复制仍存活的染色体数据。"
      ]
    },
    {
      "metadata": {
        "id": "8LhoLiPQNlVv",
        "colab_type": "code",
        "colab": {}
      },
      "cell_type": "code",
      "source": [
        "# 请将以下Comment 添加到代码的合适位置\n",
        "# A. 将适应度最高的两条染色体交配\n",
        "# B. 将新一代染色体加入到generations中并返回\n",
        "# C. 将适应度最差的两个染色体杀掉\n",
        "# D. 找到仍存活的染色体，并更新代数\n",
        "# E. 将适应度第三和第四高的两条染色体交配\n",
        "\n",
        "\n",
        "def copy_chromosomes(generation, generations):\n",
        "    new_generation = copy.deepcopy(generation)\n",
        "    \n",
        "    new_generation[-1]['active'] = False\n",
        "    new_generation[-2]['active'] = False\n",
        "    \n",
        "    active = list(filter(lambda k: k['active'] == True, new_generation))\n",
        "    for chromosome in active:\n",
        "        chromosome['generation'] += 1\n",
        "    \n",
        "    \n",
        "    generations.extend(active)\n",
        "    return generations\n",
        "\n",
        "\n",
        "def mate_chromosomes(generation, generations, generation_num):\n",
        "    \n",
        "    child = recombine(generation[0]['chromosome'], generation[1]['chromosome'])\n",
        "    child = mutate_chromosome(child)\n",
        "    generations.append({\n",
        "      \"active\": True,\n",
        "      \"chromosome\": child,\n",
        "      \"generation\": generation_num + 1,\n",
        "      \"fitness\": calculate_chromosome_fitness(child)\n",
        "    })\n",
        "\n",
        "    other = recombine(generation[2]['chromosome'], generation[3]['chromosome'])\n",
        "    other = mutate_chromosome(chromosome)\n",
        "    generations.append({\n",
        "      \"active\": True,\n",
        "      \"chromosome\": other,\n",
        "      \"generation\": generation_num + 1,\n",
        "      \"fitness\": calculate_chromosome_fitness(other)\n",
        "    })\n",
        "    return generations"
      ],
      "execution_count": 0,
      "outputs": []
    },
    {
      "metadata": {
        "id": "j16k4gQiNlVz",
        "colab_type": "text"
      },
      "cell_type": "markdown",
      "source": [
        "最后，我们用一个`main`函数将这些步骤封装起来"
      ]
    },
    {
      "metadata": {
        "id": "O3pNSIbNNlVz",
        "colab_type": "code",
        "colab": {}
      },
      "cell_type": "code",
      "source": [
        "def run_ga(input_generations):\n",
        "    fittest = []\n",
        "    max_fitness = None\n",
        "    fittest_chromo = None\n",
        "    for generation_num in range(50):\n",
        "        if max_fitness and max_fitness < 5:\n",
        "            break\n",
        "\n",
        "        generation = get_chromosomes_in_generation(input_generations, generation_num)\n",
        "        fittest, fittest_chromo = sort_chromosomes(generation, most_fit)\n",
        "\n",
        "        input_generations = copy_chromosomes(generation, input_generations)\n",
        "        input_generations = mate_chromosomes(generation, input_generations, generation_num)\n",
        "\n",
        "        draw_population(map(lambda d: d['chromosome'], \n",
        "                        get_chromosomes_in_generation(input_generations, generation_num)), generation_num)\n",
        "\n",
        "    return fittest, fittest_chromo"
      ],
      "execution_count": 0,
      "outputs": []
    },
    {
      "metadata": {
        "id": "_cKl9wlQNlV1",
        "colab_type": "code",
        "colab": {
          "base_uri": "https://localhost:8080/",
          "height": 737
        },
        "outputId": "593dba85-2286-49ac-cc20-bb6214ecd3a0"
      },
      "cell_type": "code",
      "source": [
        "most_fit, fittest_chromosome = run_ga(generations)"
      ],
      "execution_count": 26,
      "outputs": [
        {
          "output_type": "stream",
          "text": [
            "/usr/local/lib/python3.6/dist-packages/ipykernel_launcher.py:4: DeprecationWarning: \n",
            ".ix is deprecated. Please use\n",
            ".loc for label based indexing or\n",
            ".iloc for positional indexing\n",
            "\n",
            "See the documentation here:\n",
            "http://pandas.pydata.org/pandas-docs/stable/indexing.html#ix-indexer-is-deprecated\n",
            "  after removing the cwd from sys.path.\n",
            "/usr/local/lib/python3.6/dist-packages/ipykernel_launcher.py:7: DeprecationWarning: \n",
            ".ix is deprecated. Please use\n",
            ".loc for label based indexing or\n",
            ".iloc for positional indexing\n",
            "\n",
            "See the documentation here:\n",
            "http://pandas.pydata.org/pandas-docs/stable/indexing.html#ix-indexer-is-deprecated\n",
            "  import sys\n"
          ],
          "name": "stderr"
        },
        {
          "output_type": "error",
          "ename": "NameError",
          "evalue": "ignored",
          "traceback": [
            "\u001b[0;31m---------------------------------------------------------------------------\u001b[0m",
            "\u001b[0;31mNameError\u001b[0m                                 Traceback (most recent call last)",
            "\u001b[0;32m<ipython-input-26-70f85f62dce5>\u001b[0m in \u001b[0;36m<module>\u001b[0;34m()\u001b[0m\n\u001b[0;32m----> 1\u001b[0;31m \u001b[0mmost_fit\u001b[0m\u001b[0;34m,\u001b[0m \u001b[0mfittest_chromosome\u001b[0m \u001b[0;34m=\u001b[0m \u001b[0mrun_ga\u001b[0m\u001b[0;34m(\u001b[0m\u001b[0mgenerations\u001b[0m\u001b[0;34m)\u001b[0m\u001b[0;34m\u001b[0m\u001b[0;34m\u001b[0m\u001b[0m\n\u001b[0m",
            "\u001b[0;32m<ipython-input-25-1e082fb444d7>\u001b[0m in \u001b[0;36mrun_ga\u001b[0;34m(input_generations)\u001b[0m\n\u001b[1;32m     14\u001b[0m \u001b[0;34m\u001b[0m\u001b[0m\n\u001b[1;32m     15\u001b[0m         draw_population(map(lambda d: d['chromosome'], \n\u001b[0;32m---> 16\u001b[0;31m                         get_chromosomes_in_generation(input_generations, generation_num)), generation_num)\n\u001b[0m\u001b[1;32m     17\u001b[0m \u001b[0;34m\u001b[0m\u001b[0m\n\u001b[1;32m     18\u001b[0m     \u001b[0;32mreturn\u001b[0m \u001b[0mfittest\u001b[0m\u001b[0;34m,\u001b[0m \u001b[0mfittest_chromo\u001b[0m\u001b[0;34m\u001b[0m\u001b[0;34m\u001b[0m\u001b[0m\n",
            "\u001b[0;32m<ipython-input-20-1bbad2545b8f>\u001b[0m in \u001b[0;36mdraw_population\u001b[0;34m(population, generation)\u001b[0m\n\u001b[1;32m      3\u001b[0m \u001b[0;34m\u001b[0m\u001b[0m\n\u001b[1;32m      4\u001b[0m \u001b[0;32mdef\u001b[0m \u001b[0mdraw_population\u001b[0m\u001b[0;34m(\u001b[0m\u001b[0mpopulation\u001b[0m\u001b[0;34m,\u001b[0m \u001b[0mgeneration\u001b[0m\u001b[0;34m)\u001b[0m\u001b[0;34m:\u001b[0m\u001b[0;34m\u001b[0m\u001b[0;34m\u001b[0m\u001b[0m\n\u001b[0;32m----> 5\u001b[0;31m     \u001b[0mget_ids\u001b[0m \u001b[0;34m=\u001b[0m \u001b[0mnp\u001b[0m\u001b[0;34m.\u001b[0m\u001b[0mvectorize\u001b[0m\u001b[0;34m(\u001b[0m\u001b[0mget_id\u001b[0m\u001b[0;34m)\u001b[0m\u001b[0;34m\u001b[0m\u001b[0;34m\u001b[0m\u001b[0m\n\u001b[0m\u001b[1;32m      6\u001b[0m     \u001b[0mfigure\u001b[0m\u001b[0;34m,\u001b[0m \u001b[0maxes\u001b[0m \u001b[0;34m=\u001b[0m \u001b[0mplt\u001b[0m\u001b[0;34m.\u001b[0m\u001b[0msubplots\u001b[0m\u001b[0;34m(\u001b[0m\u001b[0;36m1\u001b[0m\u001b[0;34m,\u001b[0m \u001b[0;36m10\u001b[0m\u001b[0;34m,\u001b[0m \u001b[0mfigsize\u001b[0m\u001b[0;34m=\u001b[0m\u001b[0;34m(\u001b[0m\u001b[0;36m20\u001b[0m\u001b[0;34m,\u001b[0m \u001b[0;36m3\u001b[0m\u001b[0;34m)\u001b[0m\u001b[0;34m)\u001b[0m\u001b[0;34m\u001b[0m\u001b[0;34m\u001b[0m\u001b[0m\n\u001b[1;32m      7\u001b[0m \u001b[0;34m\u001b[0m\u001b[0m\n",
            "\u001b[0;31mNameError\u001b[0m: name 'get_id' is not defined"
          ]
        }
      ]
    },
    {
      "metadata": {
        "id": "VS6BzjkYTawc",
        "colab_type": "code",
        "colab": {}
      },
      "cell_type": "code",
      "source": [
        ""
      ],
      "execution_count": 0,
      "outputs": []
    },
    {
      "metadata": {
        "id": "-YZt3yr3NlV4",
        "colab_type": "text"
      },
      "cell_type": "markdown",
      "source": [
        "到这里，遗传算法就告一段落了，我们最后看看这个model的表现吧"
      ]
    },
    {
      "metadata": {
        "id": "7j6AJ1oMNlV5",
        "colab_type": "code",
        "colab": {}
      },
      "cell_type": "code",
      "source": [
        "plt.plot(most_fit)\n",
        "plt.title(\"Most Fit Trend\")\n",
        "plt.xlabel(\"Generation\")\n",
        "plt.ylabel(\"Fitness\")\n",
        "plt.show()"
      ],
      "execution_count": 0,
      "outputs": []
    },
    {
      "metadata": {
        "id": "VNI5xbzzNlV7",
        "colab_type": "code",
        "colab": {}
      },
      "cell_type": "code",
      "source": [
        "fittest_chromosome"
      ],
      "execution_count": 0,
      "outputs": []
    },
    {
      "metadata": {
        "id": "XSSQ86cyNlV9",
        "colab_type": "code",
        "colab": {}
      },
      "cell_type": "code",
      "source": [
        ""
      ],
      "execution_count": 0,
      "outputs": []
    }
  ]
}